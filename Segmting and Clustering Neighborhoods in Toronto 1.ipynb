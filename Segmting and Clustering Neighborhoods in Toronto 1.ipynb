{
    "cells": [
        {
            "metadata": {},
            "cell_type": "code",
            "source": "import pandas as pd\nimport numpy as np\n#!conda install -c conda-forge geopy --yes\n#!pip install geocoder\nimport geocoder\nimport os\nimport types\nimport pandas as pd\nfrom botocore.client import Config\nimport ibm_boto3\n\ndef __iter__(self): return 0\n\n# @hidden_cell\n# The following code accesses a file in your IBM Cloud Object Storage. It includes your credentials.\n# You might want to remove those credentials before you share the notebook.\nclient_b03ca8f1966141d7b311d322dc998b83 = ibm_boto3.client(service_name='s3',\n    ibm_api_key_id='EnyNJCQdXjMLcb0ur_981A4BtsWelJ7cYc1ua3Z7Oha1',\n    ibm_auth_endpoint=\"https://iam.cloud.ibm.com/oidc/token\",\n    config=Config(signature_version='oauth'),\n    endpoint_url='https://s3-api.us-geo.objectstorage.service.networklayer.com')\n\nbody = client_b03ca8f1966141d7b311d322dc998b83.get_object(Bucket='courseracapstone-donotdelete-pr-cyl8xhtg05387a',Key='Geospatial_Coordinates.csv')['Body']\n# add missing __iter__ method, so pandas accepts body as file-like object\nif not hasattr(body, \"__iter__\"): body.__iter__ = types.MethodType( __iter__, body )\n\ndf_data_1 = pd.read_csv(body)\ndf_data_1.head()\n\n\npd.read_html('https://en.wikipedia.org/wiki/List_of_postal_codes_of_Canada:_M')\n\n# Retrieve the first element of the list\ndf_toronto = pd.read_html('https://en.wikipedia.org/wiki/List_of_postal_codes_of_Canada:_M')[0]\n\n#  Ignore cells with a borough that is Not assigned.\n\ndf_toronto['Borough'].replace('Not assigned', np.nan, inplace=True)\nprint(\"toronto data shape before dropping borough that is not assigned\", df_toronto.shape)\ndf_toronto.dropna(inplace=True)\nprint(\"toronto data shape after dropping borough that is not assigned\", df_toronto.shape)\n\n# read the csv to get longitude latitude for the postcodes\n\"\"\"print(os.getcwd())\ngeo_data = pd.read_csv()\"\"\"\nprint(\"geo data shape\", df_data_1.shape)\n\n\nmerged_data = pd.merge(df_toronto, df_data_1, on = \"Postal Code\")\nprint(merged_data)\n    \n    \n    \n\"\"\"\n# initialize your variable to None\nlat_lng_coords = None\n\n# loop until you get the coordinates \ni = 0\nwhile(lat_lng_coords is None):\n  #g = geocoder.google('{}, Toronto, Ontario'.format(postal_code))\n  g = geocoder.google('{}, Toronto, Ontario'.format('M5G'))\n  print(i+1)\n\nlatitude = lat_lng_coords[0]\nlongitude = lat_lng_coords[1]\nprint(latitude, \":\", longitude)\"\"\" #ends into infinite loop",
            "execution_count": 13,
            "outputs": [
                {
                    "output_type": "stream",
                    "text": "toronto data shape before dropping borough that is not assigned (180, 3)\ntoronto data shape after dropping borough that is not assigned (103, 3)\ngeo data shape (103, 3)\n    Postal Code           Borough  \\\n0           M3A        North York   \n1           M4A        North York   \n2           M5A  Downtown Toronto   \n3           M6A        North York   \n4           M7A  Downtown Toronto   \n..          ...               ...   \n98          M8X         Etobicoke   \n99          M4Y  Downtown Toronto   \n100         M7Y      East Toronto   \n101         M8Y         Etobicoke   \n102         M8Z         Etobicoke   \n\n                                         Neighbourhood   Latitude  Longitude  \n0                                            Parkwoods  43.753259 -79.329656  \n1                                     Victoria Village  43.725882 -79.315572  \n2                            Regent Park, Harbourfront  43.654260 -79.360636  \n3                     Lawrence Manor, Lawrence Heights  43.718518 -79.464763  \n4          Queen's Park, Ontario Provincial Government  43.662301 -79.389494  \n..                                                 ...        ...        ...  \n98       The Kingsway, Montgomery Road, Old Mill North  43.653654 -79.506944  \n99                                Church and Wellesley  43.665860 -79.383160  \n100  Business reply mail Processing Centre, South C...  43.662744 -79.321558  \n101  Old Mill South, King's Mill Park, Sunnylea, Hu...  43.636258 -79.498509  \n102  Mimico NW, The Queensway West, South of Bloor,...  43.628841 -79.520999  \n\n[103 rows x 5 columns]\n",
                    "name": "stdout"
                },
                {
                    "output_type": "execute_result",
                    "execution_count": 13,
                    "data": {
                        "text/plain": "'\\n# initialize your variable to None\\nlat_lng_coords = None\\n\\n# loop until you get the coordinates \\ni = 0\\nwhile(lat_lng_coords is None):\\n  #g = geocoder.google(\\'{}, Toronto, Ontario\\'.format(postal_code))\\n  g = geocoder.google(\\'{}, Toronto, Ontario\\'.format(\\'M5G\\'))\\n  print(i+1)\\n\\nlatitude = lat_lng_coords[0]\\nlongitude = lat_lng_coords[1]\\nprint(latitude, \":\", longitude)'"
                    },
                    "metadata": {}
                }
            ]
        },
        {
            "metadata": {},
            "cell_type": "code",
            "source": "",
            "execution_count": null,
            "outputs": []
        },
        {
            "metadata": {},
            "cell_type": "code",
            "source": "",
            "execution_count": null,
            "outputs": []
        },
        {
            "metadata": {},
            "cell_type": "code",
            "source": "",
            "execution_count": null,
            "outputs": []
        }
    ],
    "metadata": {
        "kernelspec": {
            "name": "python3",
            "display_name": "Python 3.7",
            "language": "python"
        },
        "language_info": {
            "name": "python",
            "version": "3.7.9",
            "mimetype": "text/x-python",
            "codemirror_mode": {
                "name": "ipython",
                "version": 3
            },
            "pygments_lexer": "ipython3",
            "nbconvert_exporter": "python",
            "file_extension": ".py"
        }
    },
    "nbformat": 4,
    "nbformat_minor": 1
}