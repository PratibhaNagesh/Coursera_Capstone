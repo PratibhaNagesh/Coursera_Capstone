{
    "cells": [
        {
            "metadata": {
                "collapsed": true
            },
            "cell_type": "markdown",
            "source": "### Import libraries"
        },
        {
            "metadata": {},
            "cell_type": "code",
            "source": "import pandas as pd\nimport numpy as np\n",
            "execution_count": 1,
            "outputs": []
        },
        {
            "metadata": {},
            "cell_type": "markdown",
            "source": "### Get Table From a Wiki page with Pandas "
        },
        {
            "metadata": {},
            "cell_type": "code",
            "source": "pd.read_html('https://en.wikipedia.org/wiki/List_of_postal_codes_of_Canada:_M')\n\n# Retrieve the first element of the list\ndf_toronto = pd.read_html('https://en.wikipedia.org/wiki/List_of_postal_codes_of_Canada:_M')[0]\ndf_toronto",
            "execution_count": 4,
            "outputs": [
                {
                    "output_type": "execute_result",
                    "execution_count": 4,
                    "data": {
                        "text/plain": "    Postal Code           Borough  \\\n0           M1A      Not assigned   \n1           M2A      Not assigned   \n2           M3A        North York   \n3           M4A        North York   \n4           M5A  Downtown Toronto   \n..          ...               ...   \n175         M5Z      Not assigned   \n176         M6Z      Not assigned   \n177         M7Z      Not assigned   \n178         M8Z         Etobicoke   \n179         M9Z      Not assigned   \n\n                                         Neighbourhood  \n0                                         Not assigned  \n1                                         Not assigned  \n2                                            Parkwoods  \n3                                     Victoria Village  \n4                            Regent Park, Harbourfront  \n..                                                 ...  \n175                                       Not assigned  \n176                                       Not assigned  \n177                                       Not assigned  \n178  Mimico NW, The Queensway West, South of Bloor,...  \n179                                       Not assigned  \n\n[180 rows x 3 columns]",
                        "text/html": "<div>\n<style scoped>\n    .dataframe tbody tr th:only-of-type {\n        vertical-align: middle;\n    }\n\n    .dataframe tbody tr th {\n        vertical-align: top;\n    }\n\n    .dataframe thead th {\n        text-align: right;\n    }\n</style>\n<table border=\"1\" class=\"dataframe\">\n  <thead>\n    <tr style=\"text-align: right;\">\n      <th></th>\n      <th>Postal Code</th>\n      <th>Borough</th>\n      <th>Neighbourhood</th>\n    </tr>\n  </thead>\n  <tbody>\n    <tr>\n      <th>0</th>\n      <td>M1A</td>\n      <td>Not assigned</td>\n      <td>Not assigned</td>\n    </tr>\n    <tr>\n      <th>1</th>\n      <td>M2A</td>\n      <td>Not assigned</td>\n      <td>Not assigned</td>\n    </tr>\n    <tr>\n      <th>2</th>\n      <td>M3A</td>\n      <td>North York</td>\n      <td>Parkwoods</td>\n    </tr>\n    <tr>\n      <th>3</th>\n      <td>M4A</td>\n      <td>North York</td>\n      <td>Victoria Village</td>\n    </tr>\n    <tr>\n      <th>4</th>\n      <td>M5A</td>\n      <td>Downtown Toronto</td>\n      <td>Regent Park, Harbourfront</td>\n    </tr>\n    <tr>\n      <th>...</th>\n      <td>...</td>\n      <td>...</td>\n      <td>...</td>\n    </tr>\n    <tr>\n      <th>175</th>\n      <td>M5Z</td>\n      <td>Not assigned</td>\n      <td>Not assigned</td>\n    </tr>\n    <tr>\n      <th>176</th>\n      <td>M6Z</td>\n      <td>Not assigned</td>\n      <td>Not assigned</td>\n    </tr>\n    <tr>\n      <th>177</th>\n      <td>M7Z</td>\n      <td>Not assigned</td>\n      <td>Not assigned</td>\n    </tr>\n    <tr>\n      <th>178</th>\n      <td>M8Z</td>\n      <td>Etobicoke</td>\n      <td>Mimico NW, The Queensway West, South of Bloor,...</td>\n    </tr>\n    <tr>\n      <th>179</th>\n      <td>M9Z</td>\n      <td>Not assigned</td>\n      <td>Not assigned</td>\n    </tr>\n  </tbody>\n</table>\n<p>180 rows \u00d7 3 columns</p>\n</div>"
                    },
                    "metadata": {}
                }
            ]
        },
        {
            "metadata": {},
            "cell_type": "markdown",
            "source": "### Clean the data\n"
        },
        {
            "metadata": {},
            "cell_type": "code",
            "source": "#  Ignore cells with a borough that is Not assigned.\n\ndf_toronto['Borough'].replace('Not assigned', np.nan, inplace=True)\nprint(df_toronto.shape)\ndf_toronto.dropna(inplace=True)\nprint(df_toronto.shape)\n#print(df_toronto.reset_index())\n\n\n# Appending new dataframe to df_toronto adding 2 rows to demonstrate the following\n# 1. If a cell has a borough but a Not assigned  neighborhood, then the neighborhood will be the same as the borough.\n# 2. More than one neighborhood can exist in one postal code area. These two rows will be combined into one row with the neighborhoods separated with a comma.\n\ndf1 = pd.DataFrame({\"Postal Code\" : ['N1A', 'M5A'], \"Borough\" : ['York', 'Downtown Toronto'], \n                    \"Neighbourhood\" : ['Not Assigned', 'Combine']})\n#print(len(df1['Neighbourhood'].isna()), df1)\ndf_tot = df_toronto.append(df1, ignore_index=True)\n#print(df_tot)\n\n\n# Combine rows with same postal code together\nlength = len(df_tot)\n\nfor x in range(length):\n    #print(df_toronto['Postal Code'].iloc[x])\n    post_code = df_tot['Postal Code'][x]\n    y = x + 1\n    for y in range(y, length):\n        if post_code == df_tot['Postal Code'][y]:\n            print(\"---------------------\")\n            df_tot['Neighbourhood'][x] = df_tot['Neighbourhood'][x] + ', ' + df_tot['Neighbourhood'][y] \n            print(df_tot['Neighbourhood'][x] )\n            df_tot.replace(df_tot['Neighbourhood'][y], np.nan, inplace = True)\n            \nprint(df_tot)           \ndf_tot.dropna(inplace = True)\nprint(df_tot.shape)\n\n\n# Replacing 'Not Assigned' neighborhood, with borough value\nfor row in range(len(df_tot)):\n    if df_tot['Neighbourhood'][row] == 'Not Assigned':\n        print(df_tot['Neighbourhood'][row])\n        df_tot['Neighbourhood'] = df_tot['Borough']\n        print(df_tot['Neighbourhood'][row])\n        \n\nprint(\"---------------------\")\nprint(df_tot)  \nprint(df_tot.shape)",
            "execution_count": 5,
            "outputs": [
                {
                    "output_type": "stream",
                    "text": "(180, 3)\n(103, 3)\n---------------------\nRegent Park, Harbourfront, Combine\n    Postal Code           Borough  \\\n0           M3A        North York   \n1           M4A        North York   \n2           M5A  Downtown Toronto   \n3           M6A        North York   \n4           M7A  Downtown Toronto   \n..          ...               ...   \n100         M7Y      East Toronto   \n101         M8Y         Etobicoke   \n102         M8Z         Etobicoke   \n103         N1A              York   \n104         M5A  Downtown Toronto   \n\n                                         Neighbourhood  \n0                                            Parkwoods  \n1                                     Victoria Village  \n2                   Regent Park, Harbourfront, Combine  \n3                     Lawrence Manor, Lawrence Heights  \n4          Queen's Park, Ontario Provincial Government  \n..                                                 ...  \n100  Business reply mail Processing Centre, South C...  \n101  Old Mill South, King's Mill Park, Sunnylea, Hu...  \n102  Mimico NW, The Queensway West, South of Bloor,...  \n103                                       Not Assigned  \n104                                                NaN  \n\n[105 rows x 3 columns]\n(104, 3)\nNot Assigned\nYork\n---------------------\n    Postal Code           Borough     Neighbourhood\n0           M3A        North York        North York\n1           M4A        North York        North York\n2           M5A  Downtown Toronto  Downtown Toronto\n3           M6A        North York        North York\n4           M7A  Downtown Toronto  Downtown Toronto\n..          ...               ...               ...\n99          M4Y  Downtown Toronto  Downtown Toronto\n100         M7Y      East Toronto      East Toronto\n101         M8Y         Etobicoke         Etobicoke\n102         M8Z         Etobicoke         Etobicoke\n103         N1A              York              York\n\n[104 rows x 3 columns]\n(104, 3)\n",
                    "name": "stdout"
                }
            ]
        },
        {
            "metadata": {},
            "cell_type": "code",
            "source": "",
            "execution_count": null,
            "outputs": []
        }
    ],
    "metadata": {
        "kernelspec": {
            "name": "python3",
            "display_name": "Python 3.7",
            "language": "python"
        },
        "language_info": {
            "name": "python",
            "version": "3.7.9",
            "mimetype": "text/x-python",
            "codemirror_mode": {
                "name": "ipython",
                "version": 3
            },
            "pygments_lexer": "ipython3",
            "nbconvert_exporter": "python",
            "file_extension": ".py"
        }
    },
    "nbformat": 4,
    "nbformat_minor": 1
}